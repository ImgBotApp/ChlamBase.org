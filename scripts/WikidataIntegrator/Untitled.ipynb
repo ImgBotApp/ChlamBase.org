{
 "cells": [
  {
   "cell_type": "code",
   "execution_count": 38,
   "metadata": {
    "collapsed": true
   },
   "outputs": [],
   "source": [
    "from wikidataintegrator import wdi_login, wdi_core\n",
    "import webbrowser\n",
    "from pprint import pprint\n",
    "from mwoauth import ConsumerToken, Handshaker\n",
    "import requests\n",
    "from requests_oauthlib import OAuth1\n",
    "from six.moves.urllib.parse import parse_qs, urlencode, urlparse\n",
    "from six import PY3, b, text_type"
   ]
  },
  {
   "cell_type": "code",
   "execution_count": 43,
   "metadata": {
    "collapsed": true
   },
   "outputs": [],
   "source": [
    "consumer_key = '5f3df20c83b5d04fc8b4828c5d4cdf60'\n",
    "consumer_secret = '61a27ab6bd257dc3a4ba57135022b1cf3ff3120f'"
   ]
  },
  {
   "cell_type": "code",
   "execution_count": 46,
   "metadata": {
    "collapsed": true
   },
   "outputs": [],
   "source": [
    "callback = 'http://chlambase.org' + '/organism/471472/gene/CTL0007/authorized/'"
   ]
  },
  {
   "cell_type": "code",
   "execution_count": 47,
   "metadata": {
    "collapsed": false
   },
   "outputs": [],
   "source": [
    "authorized = wdi_login.WDLogin(consumer_key=consumer_key, consumer_secret=consumer_secret, callback_url=callback)\n"
   ]
  },
  {
   "cell_type": "code",
   "execution_count": 48,
   "metadata": {
    "collapsed": false
   },
   "outputs": [
    {
     "data": {
      "text/plain": [
       "'https://www.mediawiki.org/w/index.php?title=Special%3AOAuth%2Fauthenticate&oauth_token=808fdc7dd5842a061876a176aedf965d&oauth_consumer_key=5f3df20c83b5d04fc8b4828c5d4cdf60'"
      ]
     },
     "execution_count": 48,
     "metadata": {},
     "output_type": "execute_result"
    }
   ],
   "source": [
    "authorized.redirect"
   ]
  },
  {
   "cell_type": "code",
   "execution_count": 30,
   "metadata": {
    "collapsed": true
   },
   "outputs": [],
   "source": [
    "statement = wdi_core.WDString(prop_nr='P351', value='9995999')\n",
    "item = wdi_core.WDItemEngine(wd_item_id=\"Q21398805\", data=[statement])"
   ]
  },
  {
   "cell_type": "code",
   "execution_count": 31,
   "metadata": {
    "collapsed": false
   },
   "outputs": [
    {
     "data": {
      "text/plain": [
       "'Q21398805'"
      ]
     },
     "execution_count": 31,
     "metadata": {},
     "output_type": "execute_result"
    }
   ],
   "source": [
    "item.write(authorized)"
   ]
  },
  {
   "cell_type": "code",
   "execution_count": null,
   "metadata": {
    "collapsed": true
   },
   "outputs": [],
   "source": [
    "https://www.mediawiki.org/wiki/Special:OAuth/www.chlambase.org?oauth_verifier=0e4ba290483c62b25e22385d7ae83624&oauth_token=ae694b9f673a870d476a67caa73c4987"
   ]
  }
 ],
 "metadata": {
  "kernelspec": {
   "display_name": "Python 3",
   "language": "python",
   "name": "python3"
  },
  "language_info": {
   "codemirror_mode": {
    "name": "ipython",
    "version": 3
   },
   "file_extension": ".py",
   "mimetype": "text/x-python",
   "name": "python",
   "nbconvert_exporter": "python",
   "pygments_lexer": "ipython3",
   "version": "3.5.1"
  }
 },
 "nbformat": 4,
 "nbformat_minor": 0
}
