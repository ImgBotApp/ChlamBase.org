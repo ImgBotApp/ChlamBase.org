{
 "cells": [
  {
   "cell_type": "code",
   "execution_count": 1,
   "metadata": {
    "collapsed": false
   },
   "outputs": [],
   "source": [
    "from wikidataintegrator import wdi_oauth, wdi_login, wdi_core\n",
    "from requests_oauthlib import OAuth1\n",
    "import requests\n",
    "from pprint import pprint"
   ]
  },
  {
   "cell_type": "code",
   "execution_count": 2,
   "metadata": {
    "collapsed": false
   },
   "outputs": [
    {
     "name": "stdout",
     "output_type": "stream",
     "text": [
      "Successfully logged in as Putmantime\n"
     ]
    }
   ],
   "source": [
    "login = wdi_login.WDLogin(user='putmantime', pwd='TP975310tp')"
   ]
  },
  {
   "cell_type": "code",
   "execution_count": null,
   "metadata": {
    "collapsed": true
   },
   "outputs": [],
   "source": [
    "statement = wdi_core.WDString(prop_nr='P351', value='9999999')\n",
    "item = wdi_core.WDItemEngine(wd_item_id=\"Q21398805\", data=[statement])"
   ]
  },
  {
   "cell_type": "code",
   "execution_count": null,
   "metadata": {
    "collapsed": false
   },
   "outputs": [],
   "source": []
  },
  {
   "cell_type": "code",
   "execution_count": null,
   "metadata": {
    "collapsed": true
   },
   "outputs": [],
   "source": []
  },
  {
   "cell_type": "code",
   "execution_count": 3,
   "metadata": {
    "collapsed": true
   },
   "outputs": [],
   "source": [
    "consumer_key = 'ea0459a3395d16a5cfaf96704576bbf9'\n",
    "consumer_secret = 'e3f5e73830838f1e20372bf5f72db4cbc371efd8'"
   ]
  },
  {
   "cell_type": "code",
   "execution_count": 4,
   "metadata": {
    "collapsed": false
   },
   "outputs": [],
   "source": [
    "auth1 = wdi_oauth.WDOauth(consumer_key=consumer_key, consumer_secret=consumer_secret)"
   ]
  },
  {
   "cell_type": "code",
   "execution_count": null,
   "metadata": {
    "collapsed": true
   },
   "outputs": [],
   "source": [
    "callback = 'http://wikigenomes.org/cmod_main/main_page?oauth_verifier=a626607d5e28e7767412d91b56534610&oauth_token=05c0574b067d076dc686504e01eaace7'"
   ]
  },
  {
   "cell_type": "code",
   "execution_count": null,
   "metadata": {
    "collapsed": false
   },
   "outputs": [],
   "source": [
    "authentication_object = auth1.generate_authentication_object(query_string=callback)"
   ]
  },
  {
   "cell_type": "code",
   "execution_count": null,
   "metadata": {
    "collapsed": false
   },
   "outputs": [],
   "source": []
  },
  {
   "cell_type": "code",
   "execution_count": null,
   "metadata": {
    "collapsed": false
   },
   "outputs": [],
   "source": [
    "item.write(authentication_object)"
   ]
  },
  {
   "cell_type": "code",
   "execution_count": 13,
   "metadata": {
    "collapsed": false
   },
   "outputs": [],
   "source": []
  },
  {
   "cell_type": "code",
   "execution_count": 11,
   "metadata": {
    "collapsed": false
   },
   "outputs": [],
   "source": [
    "base_url='https://www.wikidata.org/w/api.php' \n",
    "data = {}\n",
    "headers = {\n",
    "            'content-type': 'application/x-www-form-urlencoded',\n",
    "            'charset': 'utf-8'\n",
    "            'Authorization': \n",
    "        }\n",
    "response = requests.post(\n",
    "    base_url,\n",
    "    data={\n",
    "        'action': 'wbcreateclaim',\n",
    "        'format': \"json\",\n",
    "        'entity': 'Q42',\n",
    "        'property': 'P703',\n",
    "        'snaktype': 'novalue',\n",
    "        'token': authentication_object['edit_token'],\n",
    "        \n",
    "    },\n",
    "    auth=authentication_object['oauth']['authorization']\n",
    ")\n",
    "=\n"
   ]
  },
  {
   "cell_type": "code",
   "execution_count": 12,
   "metadata": {
    "collapsed": false
   },
   "outputs": [
    {
     "data": {
      "text/plain": [
       "{'error': {'*': 'See https://www.wikidata.org/w/api.php for API usage. Subscribe to the mediawiki-api-announce mailing list at &lt;https://lists.wikimedia.org/mailman/listinfo/mediawiki-api-announce&gt; for notice of API deprecations and breaking changes.',\n",
       "  'code': 'badtoken',\n",
       "  'info': 'Invalid CSRF token.'},\n",
       " 'servedby': 'mw1225'}"
      ]
     },
     "execution_count": 12,
     "metadata": {},
     "output_type": "execute_result"
    }
   ],
   "source": [
    "response.json()"
   ]
  },
  {
   "cell_type": "code",
   "execution_count": null,
   "metadata": {
    "collapsed": true
   },
   "outputs": [],
   "source": []
  },
  {
   "cell_type": "code",
   "execution_count": null,
   "metadata": {
    "collapsed": true
   },
   "outputs": [],
   "source": []
  }
 ],
 "metadata": {
  "kernelspec": {
   "display_name": "Python 3",
   "language": "python",
   "name": "python3"
  },
  "language_info": {
   "codemirror_mode": {
    "name": "ipython",
    "version": 3
   },
   "file_extension": ".py",
   "mimetype": "text/x-python",
   "name": "python",
   "nbconvert_exporter": "python",
   "pygments_lexer": "ipython3",
   "version": "3.5.1"
  }
 },
 "nbformat": 4,
 "nbformat_minor": 0
}
